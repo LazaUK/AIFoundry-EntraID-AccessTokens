{
 "cells": [
  {
   "cell_type": "markdown",
   "id": "162eae14",
   "metadata": {},
   "source": [
    "## Demo code to analyse Entra ID tokens"
   ]
  },
  {
   "cell_type": "code",
   "execution_count": null,
   "id": "561dca3a",
   "metadata": {},
   "outputs": [],
   "source": [
    "# Import required libraries\n",
    "import base64\n",
    "import json"
   ]
  },
  {
   "cell_type": "code",
   "execution_count": null,
   "id": "0e993f4e",
   "metadata": {},
   "outputs": [],
   "source": [
    "# Obtain Entra ID token\n",
    "# az account get-access-token --resource https://cognitiveservices.azure.com --query \"accessToken\" --output tsv\n",
    "token = \"<your_token_here>\""
   ]
  },
  {
   "cell_type": "code",
   "execution_count": null,
   "id": "d114d716",
   "metadata": {},
   "outputs": [],
   "source": [
    "# Extract and print claims\n",
    "payload = token.split('.')[1]\n",
    "payload += '=' * (-len(payload) % 4)\n",
    "decoded = base64.urlsafe_b64decode(payload)\n",
    "claims = json.loads(decoded)\n",
    "\n",
    "print(json.dumps(claims, indent=4))"
   ]
  }
 ],
 "metadata": {
  "kernelspec": {
   "display_name": "Python 3",
   "language": "python",
   "name": "python3"
  },
  "language_info": {
   "codemirror_mode": {
    "name": "ipython",
    "version": 3
   },
   "file_extension": ".py",
   "mimetype": "text/x-python",
   "name": "python",
   "nbconvert_exporter": "python",
   "pygments_lexer": "ipython3",
   "version": "3.11.9"
  }
 },
 "nbformat": 4,
 "nbformat_minor": 5
}
